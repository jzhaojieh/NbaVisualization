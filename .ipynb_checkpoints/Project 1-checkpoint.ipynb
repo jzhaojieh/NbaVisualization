{
 "cells": [
  {
   "cell_type": "markdown",
   "metadata": {},
   "source": [
    "# Project 1: NBA Social Power\n",
    "## Joshua Huang and Dylan Hyun"
   ]
  },
  {
   "cell_type": "markdown",
   "metadata": {},
   "source": [
    "### Data Reading and Cleaning"
   ]
  },
  {
   "cell_type": "code",
   "execution_count": 2,
   "metadata": {},
   "outputs": [],
   "source": [
    "import pandas as pd\n",
    "import matplotlib.pyplot as plt\n",
    "\n",
    "%matplotlib inline"
   ]
  },
  {
   "cell_type": "code",
   "execution_count": 5,
   "metadata": {},
   "outputs": [
    {
     "data": {
      "text/html": [
       "<div>\n",
       "<style scoped>\n",
       "    .dataframe tbody tr th:only-of-type {\n",
       "        vertical-align: middle;\n",
       "    }\n",
       "\n",
       "    .dataframe tbody tr th {\n",
       "        vertical-align: top;\n",
       "    }\n",
       "\n",
       "    .dataframe thead th {\n",
       "        text-align: right;\n",
       "    }\n",
       "</style>\n",
       "<table border=\"1\" class=\"dataframe\">\n",
       "  <thead>\n",
       "    <tr style=\"text-align: right;\">\n",
       "      <th></th>\n",
       "      <th>PLAYER_ID</th>\n",
       "      <th>PLAYER_NAME</th>\n",
       "      <th>TEAM_ID</th>\n",
       "      <th>TEAM_ABBREVIATION</th>\n",
       "      <th>AGE</th>\n",
       "      <th>GP</th>\n",
       "      <th>W</th>\n",
       "      <th>L</th>\n",
       "      <th>W_PCT</th>\n",
       "      <th>MIN</th>\n",
       "      <th>...</th>\n",
       "      <th>FGA_PG_RANK</th>\n",
       "      <th>FG_PCT_RANK</th>\n",
       "      <th>CFID</th>\n",
       "      <th>CFPARAMS</th>\n",
       "      <th>WIKIPEDIA_HANDLE</th>\n",
       "      <th>TWITTER_HANDLE</th>\n",
       "      <th>SALARY_MILLIONS</th>\n",
       "      <th>PTS</th>\n",
       "      <th>ACTIVE_TWITTER_LAST_YEAR</th>\n",
       "      <th>TWITTER_FOLLOWER_COUNT_MILLIONS</th>\n",
       "    </tr>\n",
       "  </thead>\n",
       "  <tbody>\n",
       "    <tr>\n",
       "      <th>0</th>\n",
       "      <td>201566</td>\n",
       "      <td>Russell Westbrook</td>\n",
       "      <td>1610612760</td>\n",
       "      <td>OKC</td>\n",
       "      <td>28</td>\n",
       "      <td>81</td>\n",
       "      <td>46</td>\n",
       "      <td>35</td>\n",
       "      <td>0.568</td>\n",
       "      <td>34.6</td>\n",
       "      <td>...</td>\n",
       "      <td>1</td>\n",
       "      <td>293</td>\n",
       "      <td>5</td>\n",
       "      <td>2,015,661,610,612,760</td>\n",
       "      <td>Russell_Westbrook</td>\n",
       "      <td>russwest44</td>\n",
       "      <td>26.54</td>\n",
       "      <td>31.6</td>\n",
       "      <td>1</td>\n",
       "      <td>4.500</td>\n",
       "    </tr>\n",
       "    <tr>\n",
       "      <th>1</th>\n",
       "      <td>1626246</td>\n",
       "      <td>Boban Marjanovic</td>\n",
       "      <td>1610612765</td>\n",
       "      <td>DET</td>\n",
       "      <td>28</td>\n",
       "      <td>35</td>\n",
       "      <td>16</td>\n",
       "      <td>19</td>\n",
       "      <td>0.457</td>\n",
       "      <td>8.4</td>\n",
       "      <td>...</td>\n",
       "      <td>356</td>\n",
       "      <td>47</td>\n",
       "      <td>5</td>\n",
       "      <td>16,262,461,610,612,700</td>\n",
       "      <td>Boban_Marjanovi_</td>\n",
       "      <td>0</td>\n",
       "      <td>7.00</td>\n",
       "      <td>5.5</td>\n",
       "      <td>0</td>\n",
       "      <td>0.000</td>\n",
       "    </tr>\n",
       "    <tr>\n",
       "      <th>2</th>\n",
       "      <td>1627743</td>\n",
       "      <td>Demetrius Jackson</td>\n",
       "      <td>1610612738</td>\n",
       "      <td>BOS</td>\n",
       "      <td>22</td>\n",
       "      <td>5</td>\n",
       "      <td>1</td>\n",
       "      <td>4</td>\n",
       "      <td>0.200</td>\n",
       "      <td>3.4</td>\n",
       "      <td>...</td>\n",
       "      <td>480</td>\n",
       "      <td>3</td>\n",
       "      <td>5</td>\n",
       "      <td>16,277,431,610,612,700</td>\n",
       "      <td>Demetrius_Jackson</td>\n",
       "      <td>d_jay11</td>\n",
       "      <td>1.45</td>\n",
       "      <td>2.0</td>\n",
       "      <td>1</td>\n",
       "      <td>0.049</td>\n",
       "    </tr>\n",
       "    <tr>\n",
       "      <th>3</th>\n",
       "      <td>203076</td>\n",
       "      <td>Anthony Davis</td>\n",
       "      <td>1610612740</td>\n",
       "      <td>NOP</td>\n",
       "      <td>24</td>\n",
       "      <td>75</td>\n",
       "      <td>31</td>\n",
       "      <td>44</td>\n",
       "      <td>0.413</td>\n",
       "      <td>36.1</td>\n",
       "      <td>...</td>\n",
       "      <td>3</td>\n",
       "      <td>95</td>\n",
       "      <td>5</td>\n",
       "      <td>2,030,761,610,612,740</td>\n",
       "      <td>Anthony_Davis_(basketball)</td>\n",
       "      <td>antdavis23</td>\n",
       "      <td>22.12</td>\n",
       "      <td>28.0</td>\n",
       "      <td>1</td>\n",
       "      <td>1.220</td>\n",
       "    </tr>\n",
       "    <tr>\n",
       "      <th>4</th>\n",
       "      <td>201935</td>\n",
       "      <td>James Harden</td>\n",
       "      <td>1610612745</td>\n",
       "      <td>HOU</td>\n",
       "      <td>27</td>\n",
       "      <td>81</td>\n",
       "      <td>54</td>\n",
       "      <td>27</td>\n",
       "      <td>0.667</td>\n",
       "      <td>36.4</td>\n",
       "      <td>...</td>\n",
       "      <td>9</td>\n",
       "      <td>253</td>\n",
       "      <td>5</td>\n",
       "      <td>2,019,351,610,612,740</td>\n",
       "      <td>James_Harden</td>\n",
       "      <td>jharden13</td>\n",
       "      <td>26.50</td>\n",
       "      <td>29.1</td>\n",
       "      <td>1</td>\n",
       "      <td>4.470</td>\n",
       "    </tr>\n",
       "  </tbody>\n",
       "</table>\n",
       "<p>5 rows × 63 columns</p>\n",
       "</div>"
      ],
      "text/plain": [
       "   PLAYER_ID        PLAYER_NAME     TEAM_ID TEAM_ABBREVIATION  AGE  GP   W  \\\n",
       "0     201566  Russell Westbrook  1610612760               OKC   28  81  46   \n",
       "1    1626246   Boban Marjanovic  1610612765               DET   28  35  16   \n",
       "2    1627743  Demetrius Jackson  1610612738               BOS   22   5   1   \n",
       "3     203076      Anthony Davis  1610612740               NOP   24  75  31   \n",
       "4     201935       James Harden  1610612745               HOU   27  81  54   \n",
       "\n",
       "    L  W_PCT   MIN               ...                 FGA_PG_RANK  FG_PCT_RANK  \\\n",
       "0  35  0.568  34.6               ...                           1          293   \n",
       "1  19  0.457   8.4               ...                         356           47   \n",
       "2   4  0.200   3.4               ...                         480            3   \n",
       "3  44  0.413  36.1               ...                           3           95   \n",
       "4  27  0.667  36.4               ...                           9          253   \n",
       "\n",
       "   CFID                CFPARAMS            WIKIPEDIA_HANDLE  TWITTER_HANDLE  \\\n",
       "0     5   2,015,661,610,612,760           Russell_Westbrook      russwest44   \n",
       "1     5  16,262,461,610,612,700            Boban_Marjanovi_               0   \n",
       "2     5  16,277,431,610,612,700           Demetrius_Jackson         d_jay11   \n",
       "3     5   2,030,761,610,612,740  Anthony_Davis_(basketball)      antdavis23   \n",
       "4     5   2,019,351,610,612,740                James_Harden       jharden13   \n",
       "\n",
       "   SALARY_MILLIONS   PTS  ACTIVE_TWITTER_LAST_YEAR  \\\n",
       "0            26.54  31.6                         1   \n",
       "1             7.00   5.5                         0   \n",
       "2             1.45   2.0                         1   \n",
       "3            22.12  28.0                         1   \n",
       "4            26.50  29.1                         1   \n",
       "\n",
       "   TWITTER_FOLLOWER_COUNT_MILLIONS  \n",
       "0                            4.500  \n",
       "1                            0.000  \n",
       "2                            0.049  \n",
       "3                            1.220  \n",
       "4                            4.470  \n",
       "\n",
       "[5 rows x 63 columns]"
      ]
     },
     "execution_count": 5,
     "metadata": {},
     "output_type": "execute_result"
    }
   ],
   "source": [
    "social = pd.read_csv('social-power-nba/nba_2016_2017_100.csv', sep=',',\n",
    "                    encoding='latin-1')\n",
    "social.head()"
   ]
  },
  {
   "cell_type": "code",
   "execution_count": 6,
   "metadata": {},
   "outputs": [
    {
     "data": {
      "text/html": [
       "<div>\n",
       "<style scoped>\n",
       "    .dataframe tbody tr th:only-of-type {\n",
       "        vertical-align: middle;\n",
       "    }\n",
       "\n",
       "    .dataframe tbody tr th {\n",
       "        vertical-align: top;\n",
       "    }\n",
       "\n",
       "    .dataframe thead th {\n",
       "        text-align: right;\n",
       "    }\n",
       "</style>\n",
       "<table border=\"1\" class=\"dataframe\">\n",
       "  <thead>\n",
       "    <tr style=\"text-align: right;\">\n",
       "      <th></th>\n",
       "      <th>Rk</th>\n",
       "      <th>PLAYER</th>\n",
       "      <th>POSITION</th>\n",
       "      <th>AGE</th>\n",
       "      <th>MP</th>\n",
       "      <th>FG</th>\n",
       "      <th>FGA</th>\n",
       "      <th>FG%</th>\n",
       "      <th>3P</th>\n",
       "      <th>3PA</th>\n",
       "      <th>...</th>\n",
       "      <th>TEAM</th>\n",
       "      <th>GP</th>\n",
       "      <th>MPG</th>\n",
       "      <th>ORPM</th>\n",
       "      <th>DRPM</th>\n",
       "      <th>RPM</th>\n",
       "      <th>WINS_RPM</th>\n",
       "      <th>PIE</th>\n",
       "      <th>PACE</th>\n",
       "      <th>W</th>\n",
       "    </tr>\n",
       "  </thead>\n",
       "  <tbody>\n",
       "    <tr>\n",
       "      <th>0</th>\n",
       "      <td>1</td>\n",
       "      <td>Russell Westbrook</td>\n",
       "      <td>PG</td>\n",
       "      <td>28</td>\n",
       "      <td>34.6</td>\n",
       "      <td>10.2</td>\n",
       "      <td>24.0</td>\n",
       "      <td>0.425</td>\n",
       "      <td>2.5</td>\n",
       "      <td>7.2</td>\n",
       "      <td>...</td>\n",
       "      <td>OKC</td>\n",
       "      <td>81</td>\n",
       "      <td>34.6</td>\n",
       "      <td>6.74</td>\n",
       "      <td>-0.47</td>\n",
       "      <td>6.27</td>\n",
       "      <td>17.34</td>\n",
       "      <td>23.0</td>\n",
       "      <td>102.31</td>\n",
       "      <td>46</td>\n",
       "    </tr>\n",
       "    <tr>\n",
       "      <th>1</th>\n",
       "      <td>2</td>\n",
       "      <td>James Harden</td>\n",
       "      <td>PG</td>\n",
       "      <td>27</td>\n",
       "      <td>36.4</td>\n",
       "      <td>8.3</td>\n",
       "      <td>18.9</td>\n",
       "      <td>0.440</td>\n",
       "      <td>3.2</td>\n",
       "      <td>9.3</td>\n",
       "      <td>...</td>\n",
       "      <td>HOU</td>\n",
       "      <td>81</td>\n",
       "      <td>36.4</td>\n",
       "      <td>6.38</td>\n",
       "      <td>-1.57</td>\n",
       "      <td>4.81</td>\n",
       "      <td>15.54</td>\n",
       "      <td>19.0</td>\n",
       "      <td>102.98</td>\n",
       "      <td>54</td>\n",
       "    </tr>\n",
       "    <tr>\n",
       "      <th>2</th>\n",
       "      <td>3</td>\n",
       "      <td>Isaiah Thomas</td>\n",
       "      <td>PG</td>\n",
       "      <td>27</td>\n",
       "      <td>33.8</td>\n",
       "      <td>9.0</td>\n",
       "      <td>19.4</td>\n",
       "      <td>0.463</td>\n",
       "      <td>3.2</td>\n",
       "      <td>8.5</td>\n",
       "      <td>...</td>\n",
       "      <td>BOS</td>\n",
       "      <td>76</td>\n",
       "      <td>33.8</td>\n",
       "      <td>5.72</td>\n",
       "      <td>-3.89</td>\n",
       "      <td>1.83</td>\n",
       "      <td>8.19</td>\n",
       "      <td>16.1</td>\n",
       "      <td>99.84</td>\n",
       "      <td>51</td>\n",
       "    </tr>\n",
       "    <tr>\n",
       "      <th>3</th>\n",
       "      <td>4</td>\n",
       "      <td>Anthony Davis</td>\n",
       "      <td>C</td>\n",
       "      <td>23</td>\n",
       "      <td>36.1</td>\n",
       "      <td>10.3</td>\n",
       "      <td>20.3</td>\n",
       "      <td>0.505</td>\n",
       "      <td>0.5</td>\n",
       "      <td>1.8</td>\n",
       "      <td>...</td>\n",
       "      <td>NO</td>\n",
       "      <td>75</td>\n",
       "      <td>36.1</td>\n",
       "      <td>0.45</td>\n",
       "      <td>3.90</td>\n",
       "      <td>4.35</td>\n",
       "      <td>12.81</td>\n",
       "      <td>19.2</td>\n",
       "      <td>100.19</td>\n",
       "      <td>31</td>\n",
       "    </tr>\n",
       "    <tr>\n",
       "      <th>4</th>\n",
       "      <td>5</td>\n",
       "      <td>DeMar DeRozan</td>\n",
       "      <td>SG</td>\n",
       "      <td>27</td>\n",
       "      <td>35.4</td>\n",
       "      <td>9.7</td>\n",
       "      <td>20.9</td>\n",
       "      <td>0.467</td>\n",
       "      <td>0.4</td>\n",
       "      <td>1.7</td>\n",
       "      <td>...</td>\n",
       "      <td>TOR</td>\n",
       "      <td>74</td>\n",
       "      <td>35.4</td>\n",
       "      <td>2.21</td>\n",
       "      <td>-2.04</td>\n",
       "      <td>0.17</td>\n",
       "      <td>5.46</td>\n",
       "      <td>15.5</td>\n",
       "      <td>97.69</td>\n",
       "      <td>47</td>\n",
       "    </tr>\n",
       "  </tbody>\n",
       "</table>\n",
       "<p>5 rows × 37 columns</p>\n",
       "</div>"
      ],
      "text/plain": [
       "   Rk             PLAYER POSITION  AGE    MP    FG   FGA    FG%   3P  3PA ...  \\\n",
       "0   1  Russell Westbrook       PG   28  34.6  10.2  24.0  0.425  2.5  7.2 ...   \n",
       "1   2       James Harden       PG   27  36.4   8.3  18.9  0.440  3.2  9.3 ...   \n",
       "2   3      Isaiah Thomas       PG   27  33.8   9.0  19.4  0.463  3.2  8.5 ...   \n",
       "3   4      Anthony Davis        C   23  36.1  10.3  20.3  0.505  0.5  1.8 ...   \n",
       "4   5      DeMar DeRozan       SG   27  35.4   9.7  20.9  0.467  0.4  1.7 ...   \n",
       "\n",
       "   TEAM  GP   MPG  ORPM  DRPM   RPM  WINS_RPM   PIE    PACE   W  \n",
       "0   OKC  81  34.6  6.74 -0.47  6.27     17.34  23.0  102.31  46  \n",
       "1   HOU  81  36.4  6.38 -1.57  4.81     15.54  19.0  102.98  54  \n",
       "2   BOS  76  33.8  5.72 -3.89  1.83      8.19  16.1   99.84  51  \n",
       "3    NO  75  36.1  0.45  3.90  4.35     12.81  19.2  100.19  31  \n",
       "4   TOR  74  35.4  2.21 -2.04  0.17      5.46  15.5   97.69  47  \n",
       "\n",
       "[5 rows x 37 columns]"
      ]
     },
     "execution_count": 6,
     "metadata": {},
     "output_type": "execute_result"
    }
   ],
   "source": [
    "adv_stats = pd.read_csv('social-power-nba/nba_2017_players_stats_combined.csv', sep=',',\n",
    "                    encoding='latin-1')\n",
    "\n",
    "adv_stats.columns\n",
    "adv_stats = adv_stats.drop(columns=['Unnamed: 0'])\n",
    "adv_stats.head()"
   ]
  },
  {
   "cell_type": "code",
   "execution_count": 7,
   "metadata": {},
   "outputs": [
    {
     "data": {
      "text/plain": [
       "Index(['PLAYER_ID', 'PLAYER_NAME', 'TEAM_ID', 'TEAM_ABBREVIATION', 'AGE_x',\n",
       "       'GP_x', 'W_x', 'L', 'W_PCT', 'MIN', 'OFF_RATING', 'DEF_RATING',\n",
       "       'NET_RATING', 'AST_PCT', 'AST_TO', 'AST_RATIO', 'OREB_PCT', 'DREB_PCT',\n",
       "       'REB_PCT', 'TM_TOV_PCT', 'EFG_PCT', 'TS_PCT', 'USG_PCT', 'PACE_x',\n",
       "       'PIE_x', 'FGM', 'FGA_x', 'FGM_PG', 'FGA_PG', 'FG_PCT', 'GP_RANK',\n",
       "       'W_RANK', 'L_RANK', 'W_PCT_RANK', 'MIN_RANK', 'OFF_RATING_RANK',\n",
       "       'DEF_RATING_RANK', 'NET_RATING_RANK', 'AST_PCT_RANK', 'AST_TO_RANK',\n",
       "       'AST_RATIO_RANK', 'OREB_PCT_RANK', 'DREB_PCT_RANK', 'REB_PCT_RANK',\n",
       "       'TM_TOV_PCT_RANK', 'EFG_PCT_RANK', 'TS_PCT_RANK', 'USG_PCT_RANK',\n",
       "       'PACE_RANK', 'PIE_RANK', 'FGM_RANK', 'FGA_RANK', 'FGM_PG_RANK',\n",
       "       'FGA_PG_RANK', 'FG_PCT_RANK', 'CFID', 'CFPARAMS', 'WIKIPEDIA_HANDLE',\n",
       "       'TWITTER_HANDLE', 'SALARY_MILLIONS', 'PTS', 'ACTIVE_TWITTER_LAST_YEAR',\n",
       "       'TWITTER_FOLLOWER_COUNT_MILLIONS', 'Rk', 'PLAYER', 'POSITION', 'AGE_y',\n",
       "       'MP', 'FG', 'FGA_y', 'FG%', '3P', '3PA', '3P%', '2P', '2PA', '2P%',\n",
       "       'eFG%', 'FT', 'FTA', 'FT%', 'ORB', 'DRB', 'TRB', 'AST', 'STL', 'BLK',\n",
       "       'TOV', 'PF', 'POINTS', 'TEAM', 'GP_y', 'MPG', 'ORPM', 'DRPM', 'RPM',\n",
       "       'WINS_RPM', 'PIE_y', 'PACE_y', 'W_y'],\n",
       "      dtype='object')"
      ]
     },
     "execution_count": 7,
     "metadata": {},
     "output_type": "execute_result"
    }
   ],
   "source": [
    "stats_social = social.merge(adv_stats, left_on='PLAYER_NAME', right_on = \"PLAYER\")\n",
    "stats_social.columns"
   ]
  },
  {
   "cell_type": "markdown",
   "metadata": {},
   "source": [
    "## Question 1: Do better players have more Twitter followers?"
   ]
  },
  {
   "cell_type": "markdown",
   "metadata": {},
   "source": [
    "In this question we looked to investigate if the best NBA players always had the most Twitter followers. We made the assumption that generally as a player's skill increases his popularity, in terms of Twitter followers will increases as well. We then performed some analysis on populations where this was not the case. "
   ]
  },
  {
   "cell_type": "markdown",
   "metadata": {},
   "source": [
    "The statistic we will use to measure a player's skill is called Wins Above Replacement. This statistic represents the number of wins a player adds to their team over a set standard of a player that could easily replace him. This is a common stats used across sports to determine the value of a player. Below are the five players with the highest Wins_RPM in our dataset "
   ]
  },
  {
   "cell_type": "code",
   "execution_count": 99,
   "metadata": {},
   "outputs": [
    {
     "data": {
      "text/html": [
       "<div>\n",
       "<style scoped>\n",
       "    .dataframe tbody tr th:only-of-type {\n",
       "        vertical-align: middle;\n",
       "    }\n",
       "\n",
       "    .dataframe tbody tr th {\n",
       "        vertical-align: top;\n",
       "    }\n",
       "\n",
       "    .dataframe thead th {\n",
       "        text-align: right;\n",
       "    }\n",
       "</style>\n",
       "<table border=\"1\" class=\"dataframe\">\n",
       "  <thead>\n",
       "    <tr style=\"text-align: right;\">\n",
       "      <th></th>\n",
       "      <th>PLAYER_NAME</th>\n",
       "      <th>WINS_RPM</th>\n",
       "    </tr>\n",
       "  </thead>\n",
       "  <tbody>\n",
       "    <tr>\n",
       "      <th>6</th>\n",
       "      <td>LeBron James</td>\n",
       "      <td>20.43</td>\n",
       "    </tr>\n",
       "    <tr>\n",
       "      <th>28</th>\n",
       "      <td>Stephen Curry</td>\n",
       "      <td>18.80</td>\n",
       "    </tr>\n",
       "    <tr>\n",
       "      <th>14</th>\n",
       "      <td>Jimmy Butler</td>\n",
       "      <td>17.35</td>\n",
       "    </tr>\n",
       "    <tr>\n",
       "      <th>0</th>\n",
       "      <td>Russell Westbrook</td>\n",
       "      <td>17.34</td>\n",
       "    </tr>\n",
       "    <tr>\n",
       "      <th>82</th>\n",
       "      <td>Draymond Green</td>\n",
       "      <td>16.84</td>\n",
       "    </tr>\n",
       "  </tbody>\n",
       "</table>\n",
       "</div>"
      ],
      "text/plain": [
       "          PLAYER_NAME  WINS_RPM\n",
       "6        LeBron James     20.43\n",
       "28      Stephen Curry     18.80\n",
       "14       Jimmy Butler     17.35\n",
       "0   Russell Westbrook     17.34\n",
       "82     Draymond Green     16.84"
      ]
     },
     "execution_count": 99,
     "metadata": {},
     "output_type": "execute_result"
    }
   ],
   "source": [
    "stats_social.sort_values(by=['WINS_RPM'],ascending = False)[['PLAYER_NAME','WINS_RPM']].head()"
   ]
  },
  {
   "cell_type": "markdown",
   "metadata": {},
   "source": [
    "We started out by making a scatterplot of Wins_RPM against Twitter Followers in Tableau, and we found that this plot was best fit by a polynomial trend line. "
   ]
  },
  {
   "cell_type": "markdown",
   "metadata": {},
   "source": [
    "<img src=\"files/twitter_wins.png\">"
   ]
  },
  {
   "cell_type": "markdown",
   "metadata": {},
   "source": [
    "As you can see in the graph, there are two populations that seem to not fit the trendline. One population consists of players who are more popular than predicted given their skill, and the other consists of players who are less popular than predicted given their skill. We decided to investigate these two populations, and see why they weren't fitting the trendline. "
   ]
  },
  {
   "cell_type": "code",
   "execution_count": 104,
   "metadata": {},
   "outputs": [
    {
     "data": {
      "text/html": [
       "<div>\n",
       "<style scoped>\n",
       "    .dataframe tbody tr th:only-of-type {\n",
       "        vertical-align: middle;\n",
       "    }\n",
       "\n",
       "    .dataframe tbody tr th {\n",
       "        vertical-align: top;\n",
       "    }\n",
       "\n",
       "    .dataframe thead th {\n",
       "        text-align: right;\n",
       "    }\n",
       "</style>\n",
       "<table border=\"1\" class=\"dataframe\">\n",
       "  <thead>\n",
       "    <tr style=\"text-align: right;\">\n",
       "      <th></th>\n",
       "      <th>PLAYER_NAME</th>\n",
       "      <th>TWITTER_FOLLOWER_COUNT_MILLIONS</th>\n",
       "      <th>WINS_RPM</th>\n",
       "    </tr>\n",
       "  </thead>\n",
       "  <tbody>\n",
       "    <tr>\n",
       "      <th>78</th>\n",
       "      <td>Carmelo Anthony</td>\n",
       "      <td>8.94</td>\n",
       "      <td>5.26</td>\n",
       "    </tr>\n",
       "    <tr>\n",
       "      <th>73</th>\n",
       "      <td>Dwyane Wade</td>\n",
       "      <td>7.01</td>\n",
       "      <td>2.52</td>\n",
       "    </tr>\n",
       "    <tr>\n",
       "      <th>27</th>\n",
       "      <td>Dwight Howard</td>\n",
       "      <td>6.97</td>\n",
       "      <td>5.65</td>\n",
       "    </tr>\n",
       "    <tr>\n",
       "      <th>33</th>\n",
       "      <td>Pau Gasol</td>\n",
       "      <td>6.38</td>\n",
       "      <td>5.48</td>\n",
       "    </tr>\n",
       "    <tr>\n",
       "      <th>64</th>\n",
       "      <td>Dirk Nowitzki</td>\n",
       "      <td>2.89</td>\n",
       "      <td>3.02</td>\n",
       "    </tr>\n",
       "    <tr>\n",
       "      <th>48</th>\n",
       "      <td>Jeremy Lin</td>\n",
       "      <td>2.40</td>\n",
       "      <td>2.21</td>\n",
       "    </tr>\n",
       "  </tbody>\n",
       "</table>\n",
       "</div>"
      ],
      "text/plain": [
       "        PLAYER_NAME  TWITTER_FOLLOWER_COUNT_MILLIONS  WINS_RPM\n",
       "78  Carmelo Anthony                             8.94      5.26\n",
       "73      Dwyane Wade                             7.01      2.52\n",
       "27    Dwight Howard                             6.97      5.65\n",
       "33        Pau Gasol                             6.38      5.48\n",
       "64    Dirk Nowitzki                             2.89      3.02\n",
       "48       Jeremy Lin                             2.40      2.21"
      ]
     },
     "execution_count": 104,
     "metadata": {},
     "output_type": "execute_result"
    }
   ],
   "source": [
    "over_popular = stats_social.copy()[stats_social['TWITTER_FOLLOWER_COUNT_MILLIONS'] > 2]\n",
    "over_popular = over_popular[over_popular['WINS_RPM'] < 6]\n",
    "over_popular.sort_values(by=['TWITTER_FOLLOWER_COUNT_MILLIONS'], ascending = False)[['PLAYER_NAME','TWITTER_FOLLOWER_COUNT_MILLIONS','WINS_RPM']]"
   ]
  },
  {
   "cell_type": "code",
   "execution_count": 105,
   "metadata": {
    "scrolled": true
   },
   "outputs": [
    {
     "data": {
      "text/html": [
       "<div>\n",
       "<style scoped>\n",
       "    .dataframe tbody tr th:only-of-type {\n",
       "        vertical-align: middle;\n",
       "    }\n",
       "\n",
       "    .dataframe tbody tr th {\n",
       "        vertical-align: top;\n",
       "    }\n",
       "\n",
       "    .dataframe thead th {\n",
       "        text-align: right;\n",
       "    }\n",
       "</style>\n",
       "<table border=\"1\" class=\"dataframe\">\n",
       "  <thead>\n",
       "    <tr style=\"text-align: right;\">\n",
       "      <th></th>\n",
       "      <th>PLAYER_NAME</th>\n",
       "      <th>TWITTER_FOLLOWER_COUNT_MILLIONS</th>\n",
       "      <th>WINS_RPM</th>\n",
       "    </tr>\n",
       "  </thead>\n",
       "  <tbody>\n",
       "    <tr>\n",
       "      <th>3</th>\n",
       "      <td>Anthony Davis</td>\n",
       "      <td>1.220</td>\n",
       "      <td>12.81</td>\n",
       "    </tr>\n",
       "    <tr>\n",
       "      <th>30</th>\n",
       "      <td>DeAndre Jordan</td>\n",
       "      <td>0.984</td>\n",
       "      <td>12.59</td>\n",
       "    </tr>\n",
       "    <tr>\n",
       "      <th>82</th>\n",
       "      <td>Draymond Green</td>\n",
       "      <td>0.911</td>\n",
       "      <td>16.84</td>\n",
       "    </tr>\n",
       "    <tr>\n",
       "      <th>32</th>\n",
       "      <td>Kyle Lowry</td>\n",
       "      <td>0.589</td>\n",
       "      <td>12.67</td>\n",
       "    </tr>\n",
       "    <tr>\n",
       "      <th>14</th>\n",
       "      <td>Jimmy Butler</td>\n",
       "      <td>0.469</td>\n",
       "      <td>17.35</td>\n",
       "    </tr>\n",
       "    <tr>\n",
       "      <th>9</th>\n",
       "      <td>Giannis Antetokounmpo</td>\n",
       "      <td>0.246</td>\n",
       "      <td>13.00</td>\n",
       "    </tr>\n",
       "    <tr>\n",
       "      <th>16</th>\n",
       "      <td>Rudy Gobert</td>\n",
       "      <td>0.195</td>\n",
       "      <td>15.55</td>\n",
       "    </tr>\n",
       "    <tr>\n",
       "      <th>10</th>\n",
       "      <td>Kawhi Leonard</td>\n",
       "      <td>0.166</td>\n",
       "      <td>15.53</td>\n",
       "    </tr>\n",
       "    <tr>\n",
       "      <th>13</th>\n",
       "      <td>Nikola Jokic</td>\n",
       "      <td>0.009</td>\n",
       "      <td>13.18</td>\n",
       "    </tr>\n",
       "  </tbody>\n",
       "</table>\n",
       "</div>"
      ],
      "text/plain": [
       "              PLAYER_NAME  TWITTER_FOLLOWER_COUNT_MILLIONS  WINS_RPM\n",
       "3           Anthony Davis                            1.220     12.81\n",
       "30         DeAndre Jordan                            0.984     12.59\n",
       "82         Draymond Green                            0.911     16.84\n",
       "32             Kyle Lowry                            0.589     12.67\n",
       "14           Jimmy Butler                            0.469     17.35\n",
       "9   Giannis Antetokounmpo                            0.246     13.00\n",
       "16            Rudy Gobert                            0.195     15.55\n",
       "10          Kawhi Leonard                            0.166     15.53\n",
       "13           Nikola Jokic                            0.009     13.18"
      ]
     },
     "execution_count": 105,
     "metadata": {},
     "output_type": "execute_result"
    }
   ],
   "source": [
    "under_popular = stats_social.copy()[stats_social['TWITTER_FOLLOWER_COUNT_MILLIONS'] < 2]\n",
    "under_popular = under_popular[under_popular['WINS_RPM'] > 12]\n",
    "under_popular.sort_values(by=['TWITTER_FOLLOWER_COUNT_MILLIONS'], ascending = False)[['PLAYER_NAME','TWITTER_FOLLOWER_COUNT_MILLIONS','WINS_RPM']]"
   ]
  },
  {
   "cell_type": "markdown",
   "metadata": {},
   "source": [
    "We decided the best way to analyze these populations was to compare them to each other, and see what the differences between them were. The biggest difference we found was the difference in age. "
   ]
  },
  {
   "cell_type": "code",
   "execution_count": 37,
   "metadata": {},
   "outputs": [
    {
     "name": "stdout",
     "output_type": "stream",
     "text": [
      "33.666666666666664\n",
      "25.77777777777778\n"
     ]
    }
   ],
   "source": [
    "print(over_popular['AGE_x'].mean())\n",
    "print(under_popular['AGE_x'].mean())"
   ]
  },
  {
   "cell_type": "markdown",
   "metadata": {},
   "source": [
    "Using this information, and our background knowlege of the players in each group, we made the hypothesis that:\n",
    "- The overpopular players are past superstars who's skill has declined, but have maintained their popularity\n",
    "- The underpopular playesr are good young players who haven't been in the league long enough to build their popularity\n",
    "\n",
    "There are only two players who didn't fit this mold. \n",
    "In the over popular group Jeremy Lin is only 28 years old. However, the reason he is so popular is because he has such a large international following. He casued the month long sensation known as 'Linsanity' back in 2016, where he had a strech of games where he burst onto the scene. Since then his skill has tapered off, but he has maintained his popularity with Asian-Americans, and across seas in Asia. \n",
    "The other player, who was in the underpopular group, is Kyle Lowery who is 31 years old. He is an outlier in this group, because he only started to play at such a high level in the latter part of his career. These two players were thus removed from our future analysis of the two populations.\n",
    "\n",
    "We believe that the players in these two groups are linked, in that the underpopular players are on a similar career trajectory to the overpopular players. \n",
    "We hypothsize that over time the underpopular players will continue to play at a high level, and thus continue to gain popularity. But, once they are older, their skill will decline, but they will maintain their popularity. \n",
    "\n",
    "To test this hypothesis we can look back at the careers of the overpopular players. If our hypothesis holds then they should have similar wins above replacement when they were 25 compared to when the current under popular players were 25. \n",
    "\n",
    "We went and manually gathered this information from basketball-reference.com. Since, wins above replacement data has only been kept for the past few seasons we used a similar statistic called win shares (WS). If a player had yet to turn 25 we just used the WS from their most recent full season. In the data below the group 'veteran' referes to the overpoular players, and 'young' refers to the underpopular players. "
   ]
  },
  {
   "cell_type": "code",
   "execution_count": 107,
   "metadata": {},
   "outputs": [
    {
     "data": {
      "text/html": [
       "<div>\n",
       "<style scoped>\n",
       "    .dataframe tbody tr th:only-of-type {\n",
       "        vertical-align: middle;\n",
       "    }\n",
       "\n",
       "    .dataframe tbody tr th {\n",
       "        vertical-align: top;\n",
       "    }\n",
       "\n",
       "    .dataframe thead th {\n",
       "        text-align: right;\n",
       "    }\n",
       "</style>\n",
       "<table border=\"1\" class=\"dataframe\">\n",
       "  <thead>\n",
       "    <tr style=\"text-align: right;\">\n",
       "      <th></th>\n",
       "      <th>Player_Name</th>\n",
       "      <th>Group</th>\n",
       "      <th>WS_25</th>\n",
       "    </tr>\n",
       "  </thead>\n",
       "  <tbody>\n",
       "    <tr>\n",
       "      <th>0</th>\n",
       "      <td>Dwight Howard</td>\n",
       "      <td>veteran</td>\n",
       "      <td>14.4</td>\n",
       "    </tr>\n",
       "    <tr>\n",
       "      <th>1</th>\n",
       "      <td>Pau Gasol</td>\n",
       "      <td>veteran</td>\n",
       "      <td>12.0</td>\n",
       "    </tr>\n",
       "    <tr>\n",
       "      <th>2</th>\n",
       "      <td>Dirk Nowitzki</td>\n",
       "      <td>veteran</td>\n",
       "      <td>11.5</td>\n",
       "    </tr>\n",
       "    <tr>\n",
       "      <th>3</th>\n",
       "      <td>Dwayne Wade</td>\n",
       "      <td>veteran</td>\n",
       "      <td>8.8</td>\n",
       "    </tr>\n",
       "    <tr>\n",
       "      <th>4</th>\n",
       "      <td>Carmelo Anthony</td>\n",
       "      <td>veteran</td>\n",
       "      <td>7.9</td>\n",
       "    </tr>\n",
       "    <tr>\n",
       "      <th>5</th>\n",
       "      <td>Anthony Davis</td>\n",
       "      <td>young</td>\n",
       "      <td>11.0</td>\n",
       "    </tr>\n",
       "    <tr>\n",
       "      <th>6</th>\n",
       "      <td>Kawahi Leonard</td>\n",
       "      <td>young</td>\n",
       "      <td>13.6</td>\n",
       "    </tr>\n",
       "    <tr>\n",
       "      <th>7</th>\n",
       "      <td>Nikola Jokic</td>\n",
       "      <td>young</td>\n",
       "      <td>9.7</td>\n",
       "    </tr>\n",
       "    <tr>\n",
       "      <th>8</th>\n",
       "      <td>Jimmy Buttler</td>\n",
       "      <td>young</td>\n",
       "      <td>11.2</td>\n",
       "    </tr>\n",
       "    <tr>\n",
       "      <th>9</th>\n",
       "      <td>Rudy Gobert</td>\n",
       "      <td>young</td>\n",
       "      <td>14.3</td>\n",
       "    </tr>\n",
       "    <tr>\n",
       "      <th>10</th>\n",
       "      <td>DeAndre Jordan</td>\n",
       "      <td>young</td>\n",
       "      <td>11.1</td>\n",
       "    </tr>\n",
       "    <tr>\n",
       "      <th>11</th>\n",
       "      <td>Draymond Green</td>\n",
       "      <td>young</td>\n",
       "      <td>11.1</td>\n",
       "    </tr>\n",
       "  </tbody>\n",
       "</table>\n",
       "</div>"
      ],
      "text/plain": [
       "        Player_Name    Group  WS_25\n",
       "0     Dwight Howard  veteran   14.4\n",
       "1         Pau Gasol  veteran   12.0\n",
       "2     Dirk Nowitzki  veteran   11.5\n",
       "3       Dwayne Wade  veteran    8.8\n",
       "4   Carmelo Anthony  veteran    7.9\n",
       "5     Anthony Davis    young   11.0\n",
       "6    Kawahi Leonard    young   13.6\n",
       "7      Nikola Jokic    young    9.7\n",
       "8     Jimmy Buttler    young   11.2\n",
       "9       Rudy Gobert    young   14.3\n",
       "10   DeAndre Jordan    young   11.1\n",
       "11   Draymond Green    young   11.1"
      ]
     },
     "execution_count": 107,
     "metadata": {},
     "output_type": "execute_result"
    }
   ],
   "source": [
    "ws_25 = pd.read_csv('social-power-nba/ws_25.csv', sep=',',\n",
    "                    encoding='latin-1')\n",
    "ws_25"
   ]
  },
  {
   "cell_type": "code",
   "execution_count": 108,
   "metadata": {},
   "outputs": [
    {
     "name": "stdout",
     "output_type": "stream",
     "text": [
      "WS_25    10.92\n",
      "dtype: float64\n",
      "WS_25    11.714286\n",
      "dtype: float64\n"
     ]
    }
   ],
   "source": [
    "print(ws_25[ws_25['Group']==\"veteran\"].mean())\n",
    "print(ws_25[ws_25['Group']==\"young\"].mean())"
   ]
  },
  {
   "cell_type": "markdown",
   "metadata": {},
   "source": [
    "The mean WS at age 25 for both groups was almost identical.\n",
    "\n",
    "This supports our hypothesis and our general takeaway from this is that young stars today who are less popular given their skill will gain followers over time, and their skill will decrease."
   ]
  },
  {
   "cell_type": "markdown",
   "metadata": {},
   "source": [
    "The other hypothesis we wanted to test was if offensive players were more popular than defensive players. To do this we used the stats called offensive and defensive rating. These stats measure either the offensive or defensive skill of a player. We plotted offensive and defensive rating against Twitter followers to examine the differences between them."
   ]
  },
  {
   "cell_type": "markdown",
   "metadata": {},
   "source": [
    "<img src=\"files/twitter_rating.png\">"
   ]
  },
  {
   "cell_type": "markdown",
   "metadata": {},
   "source": [
    "As the graph shows, generally the best offensive players have more twitter followers than the best defensive players. We further quantified this by looking at the mean followers of the best offensive and defensive players."
   ]
  },
  {
   "cell_type": "code",
   "execution_count": 120,
   "metadata": {},
   "outputs": [
    {
     "data": {
      "text/html": [
       "<div>\n",
       "<style scoped>\n",
       "    .dataframe tbody tr th:only-of-type {\n",
       "        vertical-align: middle;\n",
       "    }\n",
       "\n",
       "    .dataframe tbody tr th {\n",
       "        vertical-align: top;\n",
       "    }\n",
       "\n",
       "    .dataframe thead th {\n",
       "        text-align: right;\n",
       "    }\n",
       "</style>\n",
       "<table border=\"1\" class=\"dataframe\">\n",
       "  <thead>\n",
       "    <tr style=\"text-align: right;\">\n",
       "      <th></th>\n",
       "      <th>PLAYER_NAME</th>\n",
       "      <th>OFF_RATING</th>\n",
       "      <th>TWITTER_FOLLOWER_COUNT_MILLIONS</th>\n",
       "    </tr>\n",
       "  </thead>\n",
       "  <tbody>\n",
       "    <tr>\n",
       "      <th>2</th>\n",
       "      <td>Demetrius Jackson</td>\n",
       "      <td>124.2</td>\n",
       "      <td>0.049</td>\n",
       "    </tr>\n",
       "    <tr>\n",
       "      <th>62</th>\n",
       "      <td>JaVale McGee</td>\n",
       "      <td>121.4</td>\n",
       "      <td>0.193</td>\n",
       "    </tr>\n",
       "    <tr>\n",
       "      <th>28</th>\n",
       "      <td>Stephen Curry</td>\n",
       "      <td>118.1</td>\n",
       "      <td>9.560</td>\n",
       "    </tr>\n",
       "    <tr>\n",
       "      <th>5</th>\n",
       "      <td>Kevin Durant</td>\n",
       "      <td>117.2</td>\n",
       "      <td>16.200</td>\n",
       "    </tr>\n",
       "    <tr>\n",
       "      <th>7</th>\n",
       "      <td>Chris Paul</td>\n",
       "      <td>116.2</td>\n",
       "      <td>6.400</td>\n",
       "    </tr>\n",
       "    <tr>\n",
       "      <th>25</th>\n",
       "      <td>Blake Griffin</td>\n",
       "      <td>115.2</td>\n",
       "      <td>4.190</td>\n",
       "    </tr>\n",
       "    <tr>\n",
       "      <th>82</th>\n",
       "      <td>Draymond Green</td>\n",
       "      <td>115.2</td>\n",
       "      <td>0.911</td>\n",
       "    </tr>\n",
       "    <tr>\n",
       "      <th>6</th>\n",
       "      <td>LeBron James</td>\n",
       "      <td>114.9</td>\n",
       "      <td>37.000</td>\n",
       "    </tr>\n",
       "    <tr>\n",
       "      <th>13</th>\n",
       "      <td>Nikola Jokic</td>\n",
       "      <td>114.9</td>\n",
       "      <td>0.009</td>\n",
       "    </tr>\n",
       "    <tr>\n",
       "      <th>42</th>\n",
       "      <td>Kyrie Irving</td>\n",
       "      <td>114.2</td>\n",
       "      <td>3.480</td>\n",
       "    </tr>\n",
       "  </tbody>\n",
       "</table>\n",
       "</div>"
      ],
      "text/plain": [
       "          PLAYER_NAME  OFF_RATING  TWITTER_FOLLOWER_COUNT_MILLIONS\n",
       "2   Demetrius Jackson       124.2                            0.049\n",
       "62       JaVale McGee       121.4                            0.193\n",
       "28      Stephen Curry       118.1                            9.560\n",
       "5        Kevin Durant       117.2                           16.200\n",
       "7          Chris Paul       116.2                            6.400\n",
       "25      Blake Griffin       115.2                            4.190\n",
       "82     Draymond Green       115.2                            0.911\n",
       "6        LeBron James       114.9                           37.000\n",
       "13       Nikola Jokic       114.9                            0.009\n",
       "42       Kyrie Irving       114.2                            3.480"
      ]
     },
     "execution_count": 120,
     "metadata": {},
     "output_type": "execute_result"
    }
   ],
   "source": [
    "stats_social.sort_values(by='OFF_RATING', ascending=False)[['PLAYER_NAME','OFF_RATING','TWITTER_FOLLOWER_COUNT_MILLIONS']].head(10)"
   ]
  },
  {
   "cell_type": "code",
   "execution_count": 119,
   "metadata": {},
   "outputs": [
    {
     "data": {
      "text/plain": [
       "7.799200000000001"
      ]
     },
     "execution_count": 119,
     "metadata": {},
     "output_type": "execute_result"
    }
   ],
   "source": [
    "stats_social.sort_values(by='OFF_RATING', ascending=False)['TWITTER_FOLLOWER_COUNT_MILLIONS'].head(10).mean()"
   ]
  },
  {
   "cell_type": "code",
   "execution_count": 121,
   "metadata": {},
   "outputs": [
    {
     "data": {
      "text/html": [
       "<div>\n",
       "<style scoped>\n",
       "    .dataframe tbody tr th:only-of-type {\n",
       "        vertical-align: middle;\n",
       "    }\n",
       "\n",
       "    .dataframe tbody tr th {\n",
       "        vertical-align: top;\n",
       "    }\n",
       "\n",
       "    .dataframe thead th {\n",
       "        text-align: right;\n",
       "    }\n",
       "</style>\n",
       "<table border=\"1\" class=\"dataframe\">\n",
       "  <thead>\n",
       "    <tr style=\"text-align: right;\">\n",
       "      <th></th>\n",
       "      <th>PLAYER_NAME</th>\n",
       "      <th>DEF_RATING</th>\n",
       "      <th>TWITTER_FOLLOWER_COUNT_MILLIONS</th>\n",
       "    </tr>\n",
       "  </thead>\n",
       "  <tbody>\n",
       "    <tr>\n",
       "      <th>2</th>\n",
       "      <td>Demetrius Jackson</td>\n",
       "      <td>117.8</td>\n",
       "      <td>0.049</td>\n",
       "    </tr>\n",
       "    <tr>\n",
       "      <th>70</th>\n",
       "      <td>Brandon Bass</td>\n",
       "      <td>116.7</td>\n",
       "      <td>0.025</td>\n",
       "    </tr>\n",
       "    <tr>\n",
       "      <th>93</th>\n",
       "      <td>Julius Randle</td>\n",
       "      <td>113.3</td>\n",
       "      <td>0.358</td>\n",
       "    </tr>\n",
       "    <tr>\n",
       "      <th>67</th>\n",
       "      <td>Kenneth Faried</td>\n",
       "      <td>112.1</td>\n",
       "      <td>0.400</td>\n",
       "    </tr>\n",
       "    <tr>\n",
       "      <th>91</th>\n",
       "      <td>Thomas Robinson</td>\n",
       "      <td>111.2</td>\n",
       "      <td>0.126</td>\n",
       "    </tr>\n",
       "    <tr>\n",
       "      <th>78</th>\n",
       "      <td>Carmelo Anthony</td>\n",
       "      <td>111.1</td>\n",
       "      <td>8.940</td>\n",
       "    </tr>\n",
       "    <tr>\n",
       "      <th>94</th>\n",
       "      <td>Cheick Diallo</td>\n",
       "      <td>110.9</td>\n",
       "      <td>0.015</td>\n",
       "    </tr>\n",
       "    <tr>\n",
       "      <th>12</th>\n",
       "      <td>Karl-Anthony Towns</td>\n",
       "      <td>110.8</td>\n",
       "      <td>0.281</td>\n",
       "    </tr>\n",
       "    <tr>\n",
       "      <th>35</th>\n",
       "      <td>Eric Bledsoe</td>\n",
       "      <td>110.2</td>\n",
       "      <td>0.199</td>\n",
       "    </tr>\n",
       "    <tr>\n",
       "      <th>85</th>\n",
       "      <td>Richaun Holmes</td>\n",
       "      <td>110.0</td>\n",
       "      <td>0.010</td>\n",
       "    </tr>\n",
       "  </tbody>\n",
       "</table>\n",
       "</div>"
      ],
      "text/plain": [
       "           PLAYER_NAME  DEF_RATING  TWITTER_FOLLOWER_COUNT_MILLIONS\n",
       "2    Demetrius Jackson       117.8                            0.049\n",
       "70        Brandon Bass       116.7                            0.025\n",
       "93       Julius Randle       113.3                            0.358\n",
       "67      Kenneth Faried       112.1                            0.400\n",
       "91     Thomas Robinson       111.2                            0.126\n",
       "78     Carmelo Anthony       111.1                            8.940\n",
       "94       Cheick Diallo       110.9                            0.015\n",
       "12  Karl-Anthony Towns       110.8                            0.281\n",
       "35        Eric Bledsoe       110.2                            0.199\n",
       "85      Richaun Holmes       110.0                            0.010"
      ]
     },
     "execution_count": 121,
     "metadata": {},
     "output_type": "execute_result"
    }
   ],
   "source": [
    "stats_social.sort_values(by='DEF_RATING', ascending=False)[['PLAYER_NAME','DEF_RATING','TWITTER_FOLLOWER_COUNT_MILLIONS']].head(10)"
   ]
  },
  {
   "cell_type": "code",
   "execution_count": 122,
   "metadata": {},
   "outputs": [
    {
     "data": {
      "text/plain": [
       "1.0403"
      ]
     },
     "execution_count": 122,
     "metadata": {},
     "output_type": "execute_result"
    }
   ],
   "source": [
    "stats_social.sort_values(by='DEF_RATING', ascending=False)['TWITTER_FOLLOWER_COUNT_MILLIONS'].head(10).mean()"
   ]
  },
  {
   "cell_type": "markdown",
   "metadata": {},
   "source": [
    "As seen in the means for each of the top 10 offensive and defensive players, the offensive players had over 7 times as many twitter followers as the defensive players. "
   ]
  },
  {
   "cell_type": "markdown",
   "metadata": {},
   "source": [
    "## Question 2: How is salary related to a player's skill?"
   ]
  },
  {
   "cell_type": "markdown",
   "metadata": {},
   "source": [
    "There are many factors that can influence the salary of an athlete, some that are even unmeasurable such as an agent’s influence in negotiations. However, we wanted to investigate the relationship between a player's skill. What we would predict is that there would be groups of overpaid, properly paid, and underpaid players given the value they add. The graph below is what we would predict to see on such a graph \n",
    "\n",
    "<img src=\"files/bball_salary.png\">"
   ]
  },
  {
   "cell_type": "markdown",
   "metadata": {},
   "source": [
    "We started out by plotting a player's salary against his wins above replacement, and fitting a linear regression line to the data. \n",
    "<img src=\"salary_wins_all.png\">"
   ]
  },
  {
   "cell_type": "markdown",
   "metadata": {},
   "source": [
    "As prediced, as wins above replacement increases, salary increases. We observed that there is a lot of variability in this graph. To learn more about the players who were far away from the trendline we analyzed what the differences were between the players in the overpaid portion of the graph and those in the underpaid portion. \n",
    "\n",
    "We hypothesized that the main factor in these differences is a payer's age. We predicted that young players would generally be underpaid, and older players would be overpaid, and players in between would be propperly paid. The value trendline for older players would be higer, and the younger players' trendline lower, than the current trendline.\n",
    "\n",
    "We divided the data into players below 25 years old, between 25 and 30 years old, and over 30 years old, and fit a new trendline to each subset. \n",
    "<img src=\"salary_wins.png\">"
   ]
  },
  {
   "cell_type": "markdown",
   "metadata": {},
   "source": [
    "As the graph shows the young players trendline is significantly below the overall trendline. The prime players' trendline is about equal to that of the overall trendline, and the older players' trendline is above the overall trendline. This supports our initial hypothesis.\n",
    "\n",
    "The key takaway from our analysis is that generally, older players are overpaid, and younger players are underpaid. It's understandable why young players are underpaid, due to the fact that they are on a set contract when they get drafted, which can't be negotiated, and veterans get to negotiate their contracts with the team of their choice. However, our analysis does suggest that teams maybe should invest in younger players over older ones to gain more value. "
   ]
  },
  {
   "cell_type": "code",
   "execution_count": 93,
   "metadata": {
    "scrolled": true
   },
   "outputs": [
    {
     "data": {
      "text/plain": [
       "<matplotlib.collections.PathCollection at 0x126cabcc0>"
      ]
     },
     "execution_count": 93,
     "metadata": {},
     "output_type": "execute_result"
    },
    {
     "data": {
      "image/png": "[encoded data removed]",
      "text/plain": [
       "<matplotlib.figure.Figure at 0x11cfba748>"
      ]
     },
     "metadata": {},
     "output_type": "display_data"
    }
   ],
   "source": [
    "plt.scatter(stats_social['TWITTER_FOLLOWER_COUNT_MILLIONS'],stats_social['SALARY_MILLIONS'])"
   ]
  },
  {
   "cell_type": "markdown",
   "metadata": {},
   "source": [
    "## Question 3: Which teams have the best attendance given the size of their market?"
   ]
  },
  {
   "cell_type": "code",
   "execution_count": 3,
   "metadata": {},
   "outputs": [
    {
     "data": {
      "text/html": [
       "<div>\n",
       "<style scoped>\n",
       "    .dataframe tbody tr th:only-of-type {\n",
       "        vertical-align: middle;\n",
       "    }\n",
       "\n",
       "    .dataframe tbody tr th {\n",
       "        vertical-align: top;\n",
       "    }\n",
       "\n",
       "    .dataframe thead th {\n",
       "        text-align: right;\n",
       "    }\n",
       "</style>\n",
       "<table border=\"1\" class=\"dataframe\">\n",
       "  <thead>\n",
       "    <tr style=\"text-align: right;\">\n",
       "      <th></th>\n",
       "      <th>TEAM</th>\n",
       "      <th>GMS</th>\n",
       "      <th>TOTAL</th>\n",
       "      <th>AVG</th>\n",
       "      <th>PCT</th>\n",
       "      <th>TV Homes</th>\n",
       "      <th>% of US</th>\n",
       "      <th>Lat</th>\n",
       "      <th>Long</th>\n",
       "      <th>VALUE_MILLIONS</th>\n",
       "      <th>ELO</th>\n",
       "      <th>Salary</th>\n",
       "    </tr>\n",
       "  </thead>\n",
       "  <tbody>\n",
       "    <tr>\n",
       "      <th>0</th>\n",
       "      <td>Atlanta Hawks</td>\n",
       "      <td>41</td>\n",
       "      <td>654306</td>\n",
       "      <td>15958</td>\n",
       "      <td>85.2</td>\n",
       "      <td>2412730</td>\n",
       "      <td>2.104</td>\n",
       "      <td>33.7572</td>\n",
       "      <td>-84.3963</td>\n",
       "      <td>885</td>\n",
       "      <td>1479</td>\n",
       "      <td>100079557</td>\n",
       "    </tr>\n",
       "    <tr>\n",
       "      <th>1</th>\n",
       "      <td>Boston Celtics</td>\n",
       "      <td>41</td>\n",
       "      <td>760690</td>\n",
       "      <td>18553</td>\n",
       "      <td>99.6</td>\n",
       "      <td>2424240</td>\n",
       "      <td>2.114</td>\n",
       "      <td>42.3663</td>\n",
       "      <td>-71.0623</td>\n",
       "      <td>2200</td>\n",
       "      <td>1587</td>\n",
       "      <td>115009962</td>\n",
       "    </tr>\n",
       "    <tr>\n",
       "      <th>2</th>\n",
       "      <td>Brooklyn Nets</td>\n",
       "      <td>41</td>\n",
       "      <td>632608</td>\n",
       "      <td>15429</td>\n",
       "      <td>85.2</td>\n",
       "      <td>7348620</td>\n",
       "      <td>6.407</td>\n",
       "      <td>40.6827</td>\n",
       "      <td>-73.9747</td>\n",
       "      <td>1800</td>\n",
       "      <td>1372</td>\n",
       "      <td>96039772</td>\n",
       "    </tr>\n",
       "    <tr>\n",
       "      <th>3</th>\n",
       "      <td>Charlotte Hornets</td>\n",
       "      <td>41</td>\n",
       "      <td>710643</td>\n",
       "      <td>17332</td>\n",
       "      <td>90.9</td>\n",
       "      <td>1189950</td>\n",
       "      <td>1.038</td>\n",
       "      <td>35.2245</td>\n",
       "      <td>-80.8410</td>\n",
       "      <td>780</td>\n",
       "      <td>1463</td>\n",
       "      <td>117228164</td>\n",
       "    </tr>\n",
       "    <tr>\n",
       "      <th>4</th>\n",
       "      <td>Chicago Bulls</td>\n",
       "      <td>41</td>\n",
       "      <td>888882</td>\n",
       "      <td>21680</td>\n",
       "      <td>103.6</td>\n",
       "      <td>3463060</td>\n",
       "      <td>3.019</td>\n",
       "      <td>41.8806</td>\n",
       "      <td>-87.6741</td>\n",
       "      <td>2500</td>\n",
       "      <td>1519</td>\n",
       "      <td>89341913</td>\n",
       "    </tr>\n",
       "    <tr>\n",
       "      <th>5</th>\n",
       "      <td>Cleveland Cavaliers</td>\n",
       "      <td>41</td>\n",
       "      <td>843042</td>\n",
       "      <td>20562</td>\n",
       "      <td>100.0</td>\n",
       "      <td>1498960</td>\n",
       "      <td>1.307</td>\n",
       "      <td>41.4967</td>\n",
       "      <td>-81.6881</td>\n",
       "      <td>1200</td>\n",
       "      <td>1545</td>\n",
       "      <td>137288549</td>\n",
       "    </tr>\n",
       "    <tr>\n",
       "      <th>6</th>\n",
       "      <td>Dallas Mavericks</td>\n",
       "      <td>41</td>\n",
       "      <td>811366</td>\n",
       "      <td>19789</td>\n",
       "      <td>103.1</td>\n",
       "      <td>2713380</td>\n",
       "      <td>2.366</td>\n",
       "      <td>32.7904</td>\n",
       "      <td>-96.8103</td>\n",
       "      <td>1450</td>\n",
       "      <td>1420</td>\n",
       "      <td>85775281</td>\n",
       "    </tr>\n",
       "    <tr>\n",
       "      <th>7</th>\n",
       "      <td>Denver Nuggets</td>\n",
       "      <td>41</td>\n",
       "      <td>605585</td>\n",
       "      <td>14770</td>\n",
       "      <td>77.1</td>\n",
       "      <td>1630380</td>\n",
       "      <td>1.422</td>\n",
       "      <td>39.7486</td>\n",
       "      <td>-105.0080</td>\n",
       "      <td>890</td>\n",
       "      <td>1552</td>\n",
       "      <td>107889099</td>\n",
       "    </tr>\n",
       "  </tbody>\n",
       "</table>\n",
       "</div>"
      ],
      "text/plain": [
       "                  TEAM  GMS   TOTAL    AVG    PCT  TV Homes  % of US      Lat  \\\n",
       "0        Atlanta Hawks   41  654306  15958   85.2   2412730    2.104  33.7572   \n",
       "1       Boston Celtics   41  760690  18553   99.6   2424240    2.114  42.3663   \n",
       "2        Brooklyn Nets   41  632608  15429   85.2   7348620    6.407  40.6827   \n",
       "3    Charlotte Hornets   41  710643  17332   90.9   1189950    1.038  35.2245   \n",
       "4        Chicago Bulls   41  888882  21680  103.6   3463060    3.019  41.8806   \n",
       "5  Cleveland Cavaliers   41  843042  20562  100.0   1498960    1.307  41.4967   \n",
       "6     Dallas Mavericks   41  811366  19789  103.1   2713380    2.366  32.7904   \n",
       "7       Denver Nuggets   41  605585  14770   77.1   1630380    1.422  39.7486   \n",
       "\n",
       "       Long  VALUE_MILLIONS   ELO     Salary  \n",
       "0  -84.3963             885  1479  100079557  \n",
       "1  -71.0623            2200  1587  115009962  \n",
       "2  -73.9747            1800  1372   96039772  \n",
       "3  -80.8410             780  1463  117228164  \n",
       "4  -87.6741            2500  1519   89341913  \n",
       "5  -81.6881            1200  1545  137288549  \n",
       "6  -96.8103            1450  1420   85775281  \n",
       "7 -105.0080             890  1552  107889099  "
      ]
     },
     "execution_count": 3,
     "metadata": {},
     "output_type": "execute_result"
    }
   ],
   "source": [
    "attendance = pd.read_excel(\"nba_2017_attendance.xlsx\")\n",
    "attendance.head(8)"
   ]
  },
  {
   "cell_type": "markdown",
   "metadata": {
    "collapsed": true
   },
   "source": [
    "In order to determine factors that affected attendance and how that correlated with market size available for NBA teams, we utilize a data set with total fan attendance for the past year. We then aggregated data on number of TV Homes in each region to determine market size and plotted it against attendance to determine relationships between the two. We also looked at valuations of the team, elo ratings, and salary paid out of players to see if these factors were driven by fan attendance and to see if these are statistics NBA teams should consider."
   ]
  },
  {
   "cell_type": "markdown",
   "metadata": {},
   "source": [
    "![title](Attendance_map.png)"
   ]
  },
  {
   "cell_type": "markdown",
   "metadata": {},
   "source": [
    "We first mapped each NBA team to a map of the United States with fan attendance represented by the coloro gradient and size of the circle represented by the size of the circle. From this, we noticed that geographic location seemed to affect fan attendace. Teams on the east coast and west coast saw much higher attendance numbers than those in the midwest. We also saw that larger market teams also saw better attendance numbers than small market teams."
   ]
  },
  {
   "cell_type": "markdown",
   "metadata": {},
   "source": [
    "![title](Elo_and_Attendance.png)"
   ]
  },
  {
   "cell_type": "markdown",
   "metadata": {},
   "source": [
    "To look at some factors that drove fan attendance, we also looked at ELO rating of the teams, essentialy how well each team did during the season and mapped that against fan attendance. We hypothesized that better teams with higher ELO ratings had better fan attendance which was supported by the graph we created. Teams on the right with higher ELO ratings tended to have better attendance than worse teams on the left side who saw worse attendance on average."
   ]
  },
  {
   "cell_type": "markdown",
   "metadata": {},
   "source": [
    "![title](Salary_Elo.png)"
   ]
  },
  {
   "cell_type": "markdown",
   "metadata": {},
   "source": [
    "When we saw that ELO rating seemed to drive attendance numbers, we aggregated salary paid to players over the last year to see how that related to ELO rating. From the bar graph, we saw that teams that paid higher total salaries to players, probably ones that had better players who demanded higher salaries or overall a larger quantity of higher quality players seemed to have better ELO ratings and did better throughout the season."
   ]
  },
  {
   "cell_type": "markdown",
   "metadata": {},
   "source": [
    "![title](Valuation_and_Attendance.png)"
   ]
  },
  {
   "cell_type": "markdown",
   "metadata": {},
   "source": [
    "We finally wanted to tie these relationships back to NBA teams as a whole, and we looked how attendance numbers affected the valuation each NBA team had. On the left side we saw teams represented by larger rectangles valued higher, and on the right side we saw lesser valued teams as smaller rectangles. We noticed that the color gradient seemed to show that higher valued teams also had better attendance and realized that ticket sales represented a large portion of revenue that each team took in each season. Based on this data, we saw that market size and ELO rating of teams positively correlated with fan attendance, which was a determining factor in the overall valuation of NBA teams. Based on these findings NBA teams should also take into account a player's fan base and social media presence in addition to their basketball statistics when signing players, as a player with a larger number of fans can potentially increase the teams total value. These statistics also help explain why small market professional teams are moving locations, as it allows them to tap into new markets and increase their fan base."
   ]
  },
  {
   "cell_type": "markdown",
   "metadata": {},
   "source": [
    "## Question 4: What statistics are differentiate All Star players from average players?"
   ]
  },
  {
   "cell_type": "code",
   "execution_count": 6,
   "metadata": {},
   "outputs": [
    {
     "data": {
      "text/html": [
       "<div>\n",
       "<style scoped>\n",
       "    .dataframe tbody tr th:only-of-type {\n",
       "        vertical-align: middle;\n",
       "    }\n",
       "\n",
       "    .dataframe tbody tr th {\n",
       "        vertical-align: top;\n",
       "    }\n",
       "\n",
       "    .dataframe thead th {\n",
       "        text-align: right;\n",
       "    }\n",
       "</style>\n",
       "<table border=\"1\" class=\"dataframe\">\n",
       "  <thead>\n",
       "    <tr style=\"text-align: right;\">\n",
       "      <th></th>\n",
       "      <th>Unnamed: 0</th>\n",
       "      <th>Unnamed: 1</th>\n",
       "    </tr>\n",
       "  </thead>\n",
       "  <tbody>\n",
       "    <tr>\n",
       "      <th>0</th>\n",
       "      <td>Row Labels</td>\n",
       "      <td>Average of 3par</td>\n",
       "    </tr>\n",
       "    <tr>\n",
       "      <th>1</th>\n",
       "      <td>1978</td>\n",
       "      <td>NaN</td>\n",
       "    </tr>\n",
       "    <tr>\n",
       "      <th>2</th>\n",
       "      <td>1979</td>\n",
       "      <td>NaN</td>\n",
       "    </tr>\n",
       "    <tr>\n",
       "      <th>3</th>\n",
       "      <td>1980</td>\n",
       "      <td>0.0325172</td>\n",
       "    </tr>\n",
       "    <tr>\n",
       "      <th>4</th>\n",
       "      <td>1981</td>\n",
       "      <td>0.0157083</td>\n",
       "    </tr>\n",
       "    <tr>\n",
       "      <th>5</th>\n",
       "      <td>1982</td>\n",
       "      <td>0.0147619</td>\n",
       "    </tr>\n",
       "    <tr>\n",
       "      <th>6</th>\n",
       "      <td>1983</td>\n",
       "      <td>0.0160417</td>\n",
       "    </tr>\n",
       "    <tr>\n",
       "      <th>7</th>\n",
       "      <td>1984</td>\n",
       "      <td>0.0180417</td>\n",
       "    </tr>\n",
       "  </tbody>\n",
       "</table>\n",
       "</div>"
      ],
      "text/plain": [
       "   Unnamed: 0       Unnamed: 1\n",
       "0  Row Labels  Average of 3par\n",
       "1        1978              NaN\n",
       "2        1979              NaN\n",
       "3        1980        0.0325172\n",
       "4        1981        0.0157083\n",
       "5        1982        0.0147619\n",
       "6        1983        0.0160417\n",
       "7        1984        0.0180417"
      ]
     },
     "execution_count": 6,
     "metadata": {},
     "output_type": "execute_result"
    }
   ],
   "source": [
    "asc = pd.read_excel(\"All star counts.xlsx\")\n",
    "asc.head(8)"
   ]
  },
  {
   "cell_type": "markdown",
   "metadata": {},
   "source": [
    "Due to the larger number of players each year that believe they are \"snubbed\" from an all star nomination, we wanted to look at statistics that differentiated All Star players from average NBA players. We utilized a dataset with historical player data dating back to 1978. We took one subset of players in the years they were nominated for the All Star game, and compared averages from that subset to averages of normal NBA players that were not nominated for All Star games."
   ]
  },
  {
   "cell_type": "markdown",
   "metadata": {},
   "source": [
    "![title](OVORP.png)"
   ]
  },
  {
   "cell_type": "markdown",
   "metadata": {},
   "source": [
    "![title](DVORP.png)"
   ]
  },
  {
   "cell_type": "markdown",
   "metadata": {},
   "source": [
    "We began by plotting averages of statistics for All Stars and comparing them to average players. The first statistic we looked at was value over replaceable player or VORP, essentially comparing a player's contribution to that of an average player in the rotation or minimum salary player. We also added a reference band of 1 standard deviation above and below the All Star averages to show where 65% of all All Stars were within that statistic. Suprisingly, All Stars were almost 5 times better in offensive aspect of this statistic than average players, while in the defensive statistic, the two groups were comparable."
   ]
  },
  {
   "cell_type": "markdown",
   "metadata": {},
   "source": [
    "![title](OBPM.png)"
   ]
  },
  {
   "cell_type": "markdown",
   "metadata": {},
   "source": [
    "![title](DBPM.png)"
   ]
  },
  {
   "cell_type": "markdown",
   "metadata": {},
   "source": [
    "We then also looked at the box score plus minus statistic or BPM, which gave insights into a player's quality of contributions to the team while they were on the court. We saw the same relationship between the offensive and defensive side of the statistic, and concluded that fans preffered offensive players over defensive players when voting for All Stars, and were curious to see how many All Stars in the past 40 years were actually defensive players."
   ]
  },
  {
   "cell_type": "markdown",
   "metadata": {},
   "source": [
    "![title](OVORP-DVORP.png)"
   ]
  },
  {
   "cell_type": "markdown",
   "metadata": {},
   "source": [
    "We took the difference between OVORP and DVORP, to see which All Stars were considered defensive players. We plotted this as a bubble graph to see the exact players that fit our criteria, as the bubbles highlighted shades of orange had a higher defensive than offensive stat and would be considered defensively oriented. Surprisingly, only 8 players out of 489 nominated in the past 40 years fit this criteria, which came out to 0.016%. Although we initially predicted that offensive players would be preffered, the sheer lack of strong defensive players in the All Star game was quite a shock."
   ]
  },
  {
   "cell_type": "markdown",
   "metadata": {},
   "source": [
    "![title](Contrib.png)"
   ]
  },
  {
   "cell_type": "markdown",
   "metadata": {},
   "source": [
    "We finally compared at overall contribution between our two sets and plotted them in a side-by-side bar graph. This again seemed to support our hypothesis but illustrated the sheer gap between players at the top of the league and those that rotate our year after year. Based on our data we were able to find specific statistics such as BPM and VORP that illustrated the skill gap between All Stars and average players, and identified the few players that broke the mold and were still able to achieve an All Star nomination without strong offensive skills."
   ]
  }
 ],
 "metadata": {
  "anaconda-cloud": {},
  "kernelspec": {
   "display_name": "Python 3",
   "language": "python",
   "name": "python3"
  },
  "language_info": {
   "codemirror_mode": {
    "name": "ipython",
    "version": 3
   },
   "file_extension": ".py",
   "mimetype": "text/x-python",
   "name": "python",
   "nbconvert_exporter": "python",
   "pygments_lexer": "ipython3",
   "version": "3.6.4"
  }
 },
 "nbformat": 4,
 "nbformat_minor": 1
}
